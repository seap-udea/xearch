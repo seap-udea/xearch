{
  "cells": [
    {
      "cell_type": "markdown",
      "metadata": {
        "id": "kGI7-8_buE4r"
      },
      "source": [
        "<img src=\"https://github.com/seap-udea/xearch/blob/main/resources/xearch-logo.png?raw=true\" align=\"left\">"
      ]
    },
    {
      "cell_type": "markdown",
      "metadata": {
        "id": "7G88wHpmmqKb"
      },
      "source": [
        "<a target=\"_blank\" href=\"https://colab.research.google.com/github/seap-udea/xearch/blob/main/public/xearch-rv-findperiod.ipynb\">\n",
        "  <img src=\"https://colab.research.google.com/assets/colab-badge.svg\" alt=\"Open In Colab\"/>\n",
        "</a>"
      ]
    },
    {
      "cell_type": "markdown",
      "metadata": {
        "id": "ey7xQW34mqKc"
      },
      "source": [
        "# Radial velocity method\n",
        "## Periodicity and signal folding"
      ]
    },
    {
      "cell_type": "markdown",
      "metadata": {
        "id": "Kms9mPFBxN6O"
      },
      "source": [
        "In this notebook we will play with radial velocity method. In particular, we will focus on the determination of an exoplanet orbital period.\n",
        "\n",
        "**Instructions:**\n",
        "- Start by running all cells.\n",
        "- Select a planetary system.\n",
        "- Once selected the planetary system, run again the cell corresponding to the analysis."
      ]
    },
    {
      "cell_type": "code",
      "execution_count": 1,
      "metadata": {
        "cellView": "form",
        "colab": {
          "referenced_widgets": [
            "39a0d32927a141dfb3955f63eb8ac6e3"
          ]
        },
        "id": "_umABKz5mqKc",
        "outputId": "2f06a4fb-fefe-4f62-dbff-05663195b49f"
      },
      "outputs": [
        {
          "data": {
            "application/vnd.jupyter.widget-view+json": {
              "model_id": "c44037e3276445c18b8d13ff3f7db0a2",
              "version_major": 2,
              "version_minor": 0
            },
            "text/plain": [
              "interactive(children=(Dropdown(description='System:', index=1, options=('-- selected systems --', '51 Peg b', …"
            ]
          },
          "metadata": {},
          "output_type": "display_data"
        }
      ],
      "source": [
        "#@title Select a planetary system\n",
        "import sys, os\n",
        "if 'google.colab' in sys.modules:\n",
        "  if 'spiceypy' not in sys.modules:\n",
        "    # Install packages\n",
        "    !pip install -Uq spiceypy &> /dev/null\n",
        "\n",
        "  if not os.path.exists('signals.zip'):\n",
        "    # Get data\n",
        "    # Available at: https://drive.google.com/file/d/1UucCokiBR6sR8HlVVt6ewBlYX9YoUwbf/view?usp=drive_link\n",
        "    !gdown -q 1UucCokiBR6sR8HlVVt6ewBlYX9YoUwbf\n",
        "    !unzip -oq signals.zip\n",
        "\n",
        "# External modules\n",
        "import spiceypy as spy\n",
        "import numpy as np\n",
        "import matplotlib.pyplot as plt\n",
        "from astropy import constants as c\n",
        "import pandas as pd\n",
        "from ipywidgets import interact, widgets, interactive, fixed, interact_manual, Layout\n",
        "import glob\n",
        "import pickle\n",
        "from scipy.interpolate import interp1d\n",
        "\n",
        "# Constants\n",
        "G = c.G.value\n",
        "Msun = c.M_sun.value\n",
        "Mearth = c.M_earth.value\n",
        "Mjup = c.M_jup.value\n",
        "Rsun = c.R_sun.value\n",
        "Rearth = c.R_earth.value\n",
        "Rjup = c.R_jup.value\n",
        "Mjup2earth = Mjup/Mearth\n",
        "Rjup2earth = Rjup/Rearth\n",
        "\n",
        "# Units\n",
        "K = 1 # Kelvin\n",
        "days = 86400\n",
        "JD = days # Julian days\n",
        "BJD = days # Bessel Julian days\n",
        "years = 365.25*days # Julian years\n",
        "au = c.au.value\n",
        "deg = np.pi/180\n",
        "rad = 1/deg\n",
        "Gyr = 1e9*years\n",
        "dex = 1\n",
        "\n",
        "# Routines\n",
        "def unpickle(filepath):\n",
        "    with open(filepath, 'rb') as file:\n",
        "        data = pickle.load(file)\n",
        "    return data\n",
        "\n",
        "class System(object):\n",
        "    pass\n",
        "\n",
        "# Read list of planetary systems\n",
        "planetary_systems = glob.glob('signals/rv/*.pkl')\n",
        "planetary_systems = sorted([x.split('/')[-1].split('.')[0].replace('_',' ') for x in glob.glob('signals/rv/*.pkl')])\n",
        "\n",
        "# Read selection of special planetary system\n",
        "filepath = 'signals/rv/selection.txt'\n",
        "with open(filepath, 'r') as file:\n",
        "    lines = file.readlines()\n",
        "selected_systems = [line.strip().split('.')[0].replace('_',' ') for line in lines]\n",
        "\n",
        "# Final list of planetary systems\n",
        "planetary_systems = ['-- selected systems --'] + selected_systems + ['--'] + planetary_systems\n",
        "\n",
        "# Select planetary system\n",
        "cadence = dict(\n",
        "    frequent = 20,\n",
        "    medium = 10,\n",
        "    sparse = 5,\n",
        ")\n",
        "error = dict(\n",
        "    small = 0.05,\n",
        "    medium = 0.1,\n",
        "    large = 0.2,\n",
        ")\n",
        "\n",
        "# Select planetary system\n",
        "system = None\n",
        "def select_planetary_system(\n",
        "      planetary_system=None,\n",
        "      sampling_cadence='frequent',\n",
        "      sampling_error='large',\n",
        "      number_of_periods=4,\n",
        "  ):\n",
        "  global system\n",
        "\n",
        "  # Filepath\n",
        "  system_filepath = f\"signals/rv/{planetary_system.replace(' ','_')}.pkl\"\n",
        "  if os.path.isfile(system_filepath):\n",
        "    system = unpickle(f\"signals/rv/{planetary_system.replace(' ','_')}.pkl\")\n",
        "  else:\n",
        "    print(f\"No system selected yet\")\n",
        "    return\n",
        "\n",
        "  # Interpolated radial velocity\n",
        "  system.tfactor = system.UT/days\n",
        "  vrad_fun = interp1d(system.tobs,system.vrads,kind='cubic')\n",
        "  system.tmin = 0.0\n",
        "  system.tmax = system.T*(number_of_periods)\n",
        "  system.duration = system.tmax - system.tmin\n",
        "  # Create time and velocity array\n",
        "  ts_nominal = np.linspace(system.tmin,system.tmax,number_of_periods*cadence[sampling_cadence])\n",
        "  vs_nominal = vrad_fun(ts_nominal)\n",
        "  # Create the signal\n",
        "  system.ts_signal = ts_nominal\n",
        "  # system.dvs_signal = abs(error[sampling_error]*vs_nominal)\n",
        "  system.dvs_signal = system.Kmax*error[sampling_error]\n",
        "  system.vrads_signal = np.random.normal(vs_nominal,system.dvs_signal)\n",
        "\n",
        "  # Message\n",
        "  print(f\"Signal with {sampling_cadence} cadence and {sampling_error} errors for {number_of_periods} periods, generated for system '{planetary_system}'.\")\n",
        "\n",
        "planetary_system = interact(\n",
        "    select_planetary_system,\n",
        "    planetary_system=widgets.Dropdown(\n",
        "        options=planetary_systems,\n",
        "        value=selected_systems[0],\n",
        "        description='System:',\n",
        "        disabled=False,\n",
        "    ),\n",
        "    sampling_cadence=widgets.Dropdown(\n",
        "        options=['frequent', 'medium', 'sparse'],\n",
        "        description='Cadence:',\n",
        "        disabled=False,\n",
        "    ),\n",
        "    sampling_error=widgets.Dropdown(\n",
        "        options=['small', 'medium', 'large'],\n",
        "        description='Errors:',\n",
        "        disabled=False,\n",
        "    ),\n",
        "    number_of_periods=widgets.Dropdown(\n",
        "        options=[2,3,4,5],\n",
        "        value = 4,\n",
        "        description='Duration:',\n",
        "        disabled=False,\n",
        "    ),\n",
        ")"
      ]
    },
    {
      "cell_type": "code",
      "execution_count": 2,
      "metadata": {
        "cellView": "form",
        "colab": {
          "referenced_widgets": [
            "0a5581035b8e42a19755d53d69fb6861"
          ]
        },
        "id": "kIYiV4_QmqKe",
        "outputId": "c9a762b6-14e4-4bb3-e4ac-ca830acaf80e"
      },
      "outputs": [
        {
          "data": {
            "application/vnd.jupyter.widget-view+json": {
              "model_id": "4bf0dc81be9749f69ee68cb27a4dd82d",
              "version_major": 2,
              "version_minor": 0
            },
            "text/plain": [
              "interactive(children=(FloatSlider(value=0.0, continuous_update=False, description='Initial time:', max=16.9232…"
            ]
          },
          "metadata": {},
          "output_type": "display_data"
        }
      ],
      "source": [
        "#@title Find the orbital period of the planet\n",
        "def plot_signal(\n",
        "        tini=system.tmin*system.tfactor, # in days\n",
        "        gperiod=system.T*system.tfactor, # in days\n",
        "        qfolding=True\n",
        "    ):\n",
        "\n",
        "    # Convert to internal units\n",
        "    tini /= system.tfactor\n",
        "    gperiod /= system.tfactor\n",
        "\n",
        "    # Plotting options\n",
        "    errorbar_options = dict(color='k',fmt='o',ms=3,capsize=2)\n",
        "\n",
        "    # Select number of panels\n",
        "    nplots = 1\n",
        "    if qfolding:\n",
        "        nplots += 1\n",
        "    nplots = 2\n",
        "\n",
        "    # Plot Data\n",
        "    fig,axs = plt.subplots(nplots,1,figsize=(10,4*nplots))\n",
        "    axs = [axs] if not isinstance(axs,np.ndarray) else axs\n",
        "\n",
        "    # Plot signal\n",
        "    ax = axs[0]\n",
        "    ax.errorbar(system.ts_signal*system.UT/days,\n",
        "                system.vrads_signal*system.UV,\n",
        "                system.dvs_signal*system.UV,\n",
        "                **errorbar_options)\n",
        "    ax.set_xlabel(f\"Time [days]\")\n",
        "    ax.set_ylabel(f\"Radial Velocity [m/s]\")\n",
        "\n",
        "    # Plot periodic lines\n",
        "    tmarks = np.arange(tini,system.tmax,gperiod)\n",
        "    for tm in tmarks:\n",
        "        ax.axvline(tm*system.tfactor,ls='--',color='r')\n",
        "\n",
        "    # Decoration\n",
        "    ax.grid()\n",
        "    ax.set_xlim((system.tmin-system.duration/100)*system.tfactor,\n",
        "                (system.tmax+system.duration/100)*system.tfactor)\n",
        "\n",
        "    # Title\n",
        "    ax.set_title(rf\"Finding period of {system.data.planet_name}: $P$ (guess) = {gperiod*system.tfactor:.2f} days\",fontsize=13)\n",
        "\n",
        "    # Plot folded\n",
        "    if qfolding:\n",
        "        ax = axs[1]\n",
        "\n",
        "        # Fold signal\n",
        "        phases = ((system.ts_signal - tini) % gperiod)/gperiod\n",
        "\n",
        "        # Plot folded signal\n",
        "        ax.errorbar(phases,\n",
        "                    system.vrads_signal*system.UV,\n",
        "                    system.dvs_signal*system.UV,\n",
        "                    **errorbar_options)\n",
        "        ax.set_xlabel(f\"Phase\")\n",
        "        ax.set_ylabel(f\"Radial Velocity [m/s]\")\n",
        "        ax.set_xlim(-0.01,1.01)\n",
        "        ax.grid()\n",
        "    else:\n",
        "        ax = axs[1]\n",
        "        ax.set_xlabel(f\"Phase\",color='w')\n",
        "        ax.set_ylabel(f\"Radial Velocity [m/s]\",color='w')\n",
        "        ax.tick_params(axis='x', colors='w')\n",
        "        ax.tick_params(axis='y', colors='w')\n",
        "        for spine in ax.spines.values():\n",
        "            spine.set_visible(False)\n",
        "\n",
        "interact(\n",
        "    plot_signal,\n",
        "    tini=widgets.FloatSlider(\n",
        "        description='Initial time:',\n",
        "        min=system.tmin*system.tfactor,max=system.tmax*system.tfactor,step=0.001,value=system.tmin*system.tfactor,\n",
        "        redout_format = '.4f',\n",
        "        continuous_update=False\n",
        "    ),\n",
        "    gperiod=widgets.FloatSlider(\n",
        "        description='Period: ',\n",
        "        min=0,max=system.tmax*system.tfactor,step=0.001,value=system.duration*system.tfactor/10,\n",
        "        continuous_update=False\n",
        "    ),\n",
        "    qfolding=widgets.Checkbox(\n",
        "        description='Fold the signal',value=False,\n",
        "        continuous_update=False\n",
        "    ),\n",
        "    layout=Layout(display='flex', flex_flow='row', justify_content='space-between', align_items='center'),\n",
        ");"
      ]
    },
    {
      "cell_type": "markdown",
      "metadata": {
        "id": "k-Oq9dt5mqKe"
      },
      "source": [
        "-----\n",
        "*Designed and maintained by [Jorge I. Zuluaga](mailto:jorge.zuluaga@udea.edu.co) (2024)*"
      ]
    }
  ],
  "metadata": {
    "colab": {
      "provenance": []
    },
    "kernelspec": {
      "display_name": "Python 3",
      "language": "python",
      "name": "python3"
    },
    "language_info": {
      "codemirror_mode": {
        "name": "ipython",
        "version": 3
      },
      "file_extension": ".py",
      "mimetype": "text/x-python",
      "name": "python",
      "nbconvert_exporter": "python",
      "pygments_lexer": "ipython3",
      "version": "3.10.12"
    },
    "widgets": {
      "application/vnd.jupyter.widget-state+json": {}
    }
  },
  "nbformat": 4,
  "nbformat_minor": 0
}
