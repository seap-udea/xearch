{
  "cells": [
    {
      "cell_type": "markdown",
      "metadata": {
        "id": "kGI7-8_buE4r"
      },
      "source": [
        "<img src=\"https://github.com/seap-udea/xearch/blob/main/resources/xearch-logo.png?raw=true\" align=\"left\">"
      ]
    },
    {
      "cell_type": "markdown",
      "metadata": {
        "id": "7G88wHpmmqKb"
      },
      "source": [
        "<a target=\"_blank\" href=\"https://colab.research.google.com/github/seap-udea/xearch/blob/main/public/xearch-rv-findperiod.ipynb\">\n",
        "  <img src=\"https://colab.research.google.com/assets/colab-badge.svg\" alt=\"Open In Colab\"/>\n",
        "</a>"
      ]
    },
    {
      "cell_type": "markdown",
      "metadata": {
        "id": "ey7xQW34mqKc"
      },
      "source": [
        "# Title\n",
        "## Subtitle"
      ]
    },
    {
      "cell_type": "markdown",
      "metadata": {
        "id": "Kms9mPFBxN6O"
      },
      "source": [
        "In this notebook we will play with radial velocity method. In particular, we will focus on the determination of an exoplanet orbital period.\n",
        "\n",
        "**Instructions:**\n",
        "- Start by running all cells. It may take a while since the script must install all required packages and download exoplanet data.\n",
        "- Select a planetary system.\n",
        "- Once selected the planetary system, run again the cell corresponding to the analysis."
      ]
    },
    {
      "cell_type": "code",
      "execution_count": 6,
      "metadata": {
        "cellView": "form",
        "colab": {
          "referenced_widgets": [
            "39a0d32927a141dfb3955f63eb8ac6e3"
          ]
        },
        "id": "_umABKz5mqKc",
        "outputId": "2f06a4fb-fefe-4f62-dbff-05663195b49f"
      },
      "outputs": [
        {
          "data": {
            "application/vnd.jupyter.widget-view+json": {
              "model_id": "0e0f678a9af748538376a95c0939953f",
              "version_major": 2,
              "version_minor": 0
            },
            "text/plain": [
              "interactive(children=(Dropdown(description='System:', index=1, options=('-- selected systems --', '51 Peg b', …"
            ]
          },
          "metadata": {},
          "output_type": "display_data"
        }
      ],
      "source": [
        "#@title Select a planetary system\n",
        "## This cell is hidden in Google Colab\n",
        "import sys, os\n",
        "if 'google.colab' in sys.modules:\n",
        "  if 'spiceypy' not in sys.modules:\n",
        "    # Install packages\n",
        "    !pip install -Uq spiceypy &> /dev/null\n",
        "\n",
        "  if not os.path.exists('signals.zip'):\n",
        "    # Get data\n",
        "    # Available at: https://drive.google.com/file/d/1UucCokiBR6sR8HlVVt6ewBlYX9YoUwbf/view?usp=drive_link\n",
        "    !gdown -q 1UucCokiBR6sR8HlVVt6ewBlYX9YoUwbf\n",
        "    !unzip -oq signals.zip\n",
        "\n",
        "# External modules\n",
        "import spiceypy as spy\n",
        "import numpy as np\n",
        "import matplotlib.pyplot as plt\n",
        "from astropy import constants as c\n",
        "import pandas as pd\n",
        "from ipywidgets import interact, widgets, interactive, fixed, interact_manual, Layout\n",
        "import glob\n",
        "import pickle\n",
        "from scipy.interpolate import interp1d\n",
        "\n",
        "# Constants\n",
        "G = c.G.value\n",
        "Msun = c.M_sun.value\n",
        "Mearth = c.M_earth.value\n",
        "Mjup = c.M_jup.value\n",
        "Rsun = c.R_sun.value\n",
        "Rearth = c.R_earth.value\n",
        "Rjup = c.R_jup.value\n",
        "Mjup2earth = Mjup/Mearth\n",
        "Rjup2earth = Rjup/Rearth\n",
        "\n",
        "# Units\n",
        "K = 1 # Kelvin\n",
        "days = 86400\n",
        "JD = days # Julian days\n",
        "BJD = days # Bessel Julian days\n",
        "years = 365.25*days # Julian years\n",
        "au = c.au.value\n",
        "deg = np.pi/180\n",
        "rad = 1/deg\n",
        "Gyr = 1e9*years\n",
        "dex = 1\n",
        "\n",
        "# Routines\n",
        "def unpickle(filepath):\n",
        "    with open(filepath, 'rb') as file:\n",
        "        data = pickle.load(file)\n",
        "    return data\n",
        "\n",
        "class System(object):\n",
        "    pass\n",
        "\n",
        "# Read list of planetary systems\n",
        "planetary_systems = glob.glob('signals/rv/*.pkl')\n",
        "planetary_systems = sorted([x.split('/')[-1].split('.')[0].replace('_',' ') for x in glob.glob('signals/rv/*.pkl')])\n",
        "\n",
        "# Read selection of special planetary system\n",
        "filepath = 'signals/rv/selection-rv-findperiod.txt'\n",
        "with open(filepath, 'r') as file:\n",
        "    lines = file.readlines()\n",
        "selected_systems = [line.strip().split('.')[0].replace('_',' ') for line in lines]\n",
        "\n",
        "# Final list of planetary systems\n",
        "planetary_systems = ['-- selected systems --'] + selected_systems + ['--'] + planetary_systems\n",
        "\n",
        "# Select planetary system\n",
        "cadence = dict(\n",
        "    frequent = 20,\n",
        "    medium = 10,\n",
        "    sparse = 5,\n",
        ")\n",
        "error = dict(\n",
        "    small = 0.05,\n",
        "    medium = 0.1,\n",
        "    large = 0.2,\n",
        ")\n",
        "\n",
        "# Select planetary system\n",
        "system = None\n",
        "def select_planetary_system(\n",
        "      planetary_system=None,\n",
        "      sampling_cadence='frequent',\n",
        "      sampling_error='large',\n",
        "      number_of_periods=4,\n",
        "  ):\n",
        "  global system\n",
        "\n",
        "  # Filepath\n",
        "  system_filepath = f\"signals/rv/{planetary_system.replace(' ','_')}.pkl\"\n",
        "  if os.path.isfile(system_filepath):\n",
        "    system = unpickle(f\"signals/rv/{planetary_system.replace(' ','_')}.pkl\")\n",
        "  else:\n",
        "    print(f\"No system selected yet\")\n",
        "    return\n",
        "\n",
        "  # Interpolated radial velocity\n",
        "  system.tfactor = system.UT/days\n",
        "  vrad_fun = interp1d(system.tobs,system.vrads,kind='cubic')\n",
        "  system.tmin = 0.0\n",
        "  system.tmax = system.T*(number_of_periods)\n",
        "  system.duration = system.tmax - system.tmin\n",
        "  # Create time and velocity array\n",
        "  ts_nominal = np.linspace(system.tmin,system.tmax,number_of_periods*cadence[sampling_cadence])\n",
        "  vs_nominal = vrad_fun(ts_nominal)\n",
        "  # Create the signal\n",
        "  system.ts_signal = ts_nominal\n",
        "  # system.dvs_signal = abs(error[sampling_error]*vs_nominal)\n",
        "  system.dvs_signal = system.Kmax*error[sampling_error]\n",
        "  system.vrads_signal = np.random.normal(vs_nominal,system.dvs_signal)\n",
        "\n",
        "  # Message\n",
        "  print(f\"Signal with {sampling_cadence} cadence and {sampling_error} errors for {number_of_periods} periods, generated for system '{planetary_system}'.\")\n",
        "\n",
        "planetary_system = interact(\n",
        "    select_planetary_system,\n",
        "    planetary_system=widgets.Dropdown(\n",
        "        options=planetary_systems,\n",
        "        value=selected_systems[0],\n",
        "        description='System:',\n",
        "        disabled=False,\n",
        "    ),\n",
        "    sampling_cadence=widgets.Dropdown(\n",
        "        options=['frequent', 'medium', 'sparse'],\n",
        "        description='Cadence:',\n",
        "        disabled=False,\n",
        "    ),\n",
        "    sampling_error=widgets.Dropdown(\n",
        "        options=['small', 'medium', 'large'],\n",
        "        description='Errors:',\n",
        "        disabled=False,\n",
        "    ),\n",
        "    number_of_periods=widgets.Dropdown(\n",
        "        options=[2,3,4,5],\n",
        "        value = 4,\n",
        "        description='Duration:',\n",
        "        disabled=False,\n",
        "    ),\n",
        ")"
      ]
    },
    {
      "cell_type": "code",
      "execution_count": 8,
      "metadata": {
        "cellView": "form",
        "colab": {
          "referenced_widgets": [
            "0a5581035b8e42a19755d53d69fb6861"
          ]
        },
        "id": "kIYiV4_QmqKe",
        "outputId": "c9a762b6-14e4-4bb3-e4ac-ca830acaf80e"
      },
      "outputs": [
        {
          "data": {
            "application/vnd.jupyter.widget-view+json": {
              "model_id": "cb4cd0d8ead54266a19b60930accfbee",
              "version_major": 2,
              "version_minor": 0
            },
            "text/plain": [
              "interactive(children=(BoundedFloatText(value=0.0, description='Initial time:', max=179704.0, step=898.5), Boun…"
            ]
          },
          "metadata": {},
          "output_type": "display_data"
        }
      ],
      "source": [
        "#@title Find the orbital period of the planet\n",
        "## This cell is hidden in Google Colab\n"
      ]
    },
    {
      "cell_type": "markdown",
      "metadata": {
        "id": "k-Oq9dt5mqKe"
      },
      "source": [
        "-----\n",
        "*Designed and maintained by [Jorge I. Zuluaga](mailto:jorge.zuluaga@udea.edu.co) (2024)*"
      ]
    }
  ],
  "metadata": {
    "colab": {
      "provenance": []
    },
    "kernelspec": {
      "display_name": "Python 3",
      "language": "python",
      "name": "python3"
    },
    "language_info": {
      "codemirror_mode": {
        "name": "ipython",
        "version": 3
      },
      "file_extension": ".py",
      "mimetype": "text/x-python",
      "name": "python",
      "nbconvert_exporter": "python",
      "pygments_lexer": "ipython3",
      "version": "3.10.12"
    },
    "widgets": {
      "application/vnd.jupyter.widget-state+json": {}
    }
  },
  "nbformat": 4,
  "nbformat_minor": 0
}
