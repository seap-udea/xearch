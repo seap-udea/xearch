{
 "cells": [
  {
   "cell_type": "markdown",
   "metadata": {},
   "source": [
    "# Xearch \n",
    "## Exoplanetary Laboratory\n",
    "### By Jorge I. Zuluaga"
   ]
  },
  {
   "cell_type": "code",
   "execution_count": 175,
   "metadata": {},
   "outputs": [],
   "source": [
    "# External modules\n",
    "import spiceypy as spy\n",
    "import numpy as np\n",
    "import matplotlib.pyplot as plt\n",
    "from astropy import constants as c\n",
    "import pandas as pd\n",
    "from ipywidgets import interact, widgets, interactive, fixed, interact_manual\n",
    "# Read planetary systems\n",
    "exec(open('systems-full.py').read())\n",
    "# Constants\n",
    "deg = np.pi/180\n",
    "rad = 1/deg\n",
    "Msun = c.M_sun.value\n",
    "Mearth = c.M_earth.value\n",
    "Mjup = c.M_jup.value\n",
    "AU = c.au.value \n",
    "G = c.G.value\n",
    "Rsun = c.R_sun.value\n",
    "Rearth = c.R_earth.value\n",
    "Rjup = c.R_jup.value\n",
    "days = 86400\n",
    "years = 365.25*days"
   ]
  },
  {
   "cell_type": "code",
   "execution_count": 180,
   "metadata": {},
   "outputs": [],
   "source": [
    "system = '51 Peg b'\n",
    "system = 'GJ3512 b'\n",
    "system = 'Proxima Centauri b'"
   ]
  },
  {
   "cell_type": "code",
   "execution_count": 182,
   "metadata": {},
   "outputs": [],
   "source": [
    "# Read data\n",
    "df = pd.read_csv(f\"signals/{system.replace(' ','_')}.csv\")\n",
    "\n",
    "# Read extradata\n",
    "UM = df.UM.iloc[0]\n",
    "UL = df.UL.iloc[0]\n",
    "UT = df.UT.iloc[0]\n",
    "UV = UL/UT\n",
    "stellar_mass = df.stellar_mass.iloc[0]\n",
    "planet_mass = df.planet_mass.iloc[0]*UM/Mjup\n",
    "\n",
    "# Read statistics\n",
    "tmin = df.tobs.min()/days\n",
    "tmax = df.tobs.max()/days\n",
    "vmin = df.vrads.min()\n",
    "vmax = df.vrads.max()\n",
    "vrange = vmax - vmin\n",
    "duration = tmax - tmin\n",
    "\n",
    "# Estimate planetary mass\n",
    "K = (df.vrads.max()-df.vrads.min())/2"
   ]
  },
  {
   "cell_type": "code",
   "execution_count": 199,
   "metadata": {},
   "outputs": [
    {
     "data": {
      "application/vnd.jupyter.widget-view+json": {
       "model_id": "7b9ae646b50e44399d124ffdcb59be16",
       "version_major": 2,
       "version_minor": 0
      },
      "text/plain": [
       "interactive(children=(FloatSlider(value=0.0, continuous_update=False, description='Initial time:', max=111.748…"
      ]
     },
     "metadata": {},
     "output_type": "display_data"
    }
   ],
   "source": [
    "#@title\n",
    "@interact(\n",
    "    tini=widgets.FloatSlider(\n",
    "        description='Initial time:',\n",
    "        min=tmin,max=tmax,step=duration/500,value=tmin,\n",
    "        continuous_update=False\n",
    "    ),\n",
    "    gperiod=widgets.FloatSlider(\n",
    "        description='Period: ',\n",
    "        min=0,max=tmax,step=duration/500,value=duration/3,\n",
    "        continuous_update=False\n",
    "    ),\n",
    "    m2=widgets.FloatSlider(\n",
    "        description='Planet mass: ',\n",
    "        min=planet_mass/100,max=10*planet_mass,step=planet_mass/500,value=planet_mass/3,\n",
    "        readout_format='.5f',\n",
    "        continuous_update=False\n",
    "    ),\n",
    "    e=widgets.FloatSlider(\n",
    "        description='Eccentricity: ',\n",
    "        min=0,max=1,step=1/100,value=0,\n",
    "        continuous_update=False\n",
    "    ),\n",
    "    I=widgets.FloatSlider(\n",
    "        description='Inclination: ',\n",
    "        min=0,max=90,step=90/500,value=0,\n",
    "        continuous_update=False\n",
    "    ),\n",
    ")\n",
    "def plot_data(tini,gperiod,m2,e,I,signal=False):\n",
    "\n",
    "    # Plot Data\n",
    "    fig,axs = plt.subplots(1,1,figsize=(10,5))\n",
    "    ax = axs\n",
    "    ax.errorbar(df.tobs/days,df.vrads,df.dvrads,color='k',fmt='o',capsize=2)\n",
    "    ax.set_xlabel(f\"Time [days]\")\n",
    "    ax.set_ylabel(f\"Radial Velocity [m/s]\")\n",
    "    \n",
    "    # Plot period\n",
    "    tmarks = np.arange(tini,tmax,gperiod)\n",
    "    for tm in tmarks:\n",
    "        ax.axvline(tm,ls='--',color='r')\n",
    "    \n",
    "    m2 = m2*Mjup/UM\n",
    "    if signal:\n",
    "        # Plot guessed signal\n",
    "        ts = np.linspace(tmin,tmax,1000)\n",
    "\n",
    "        # System parameters\n",
    "        m1 = stellar_mass\n",
    "        mu = m1 + m2\n",
    "        T = (gperiod*days/UT)\n",
    "        a = (mu/(2*np.pi/T)**2)**(1/3)\n",
    "        e = e\n",
    "        I = I*deg\n",
    "        # Additional parameters\n",
    "        q = a*(1 - e)\n",
    "        W = 90*deg\n",
    "        w = 0*deg\n",
    "        M = -120*deg\n",
    "\n",
    "        Nt = 1000\n",
    "        ts = np.linspace(tmin*days/UT,tmax*days/UT,Nt)\n",
    "        Xs = np.zeros((Nt,6))\n",
    "        elements = [q, e, I, W, w, M, 0, mu]\n",
    "        for i,t in enumerate(ts):\n",
    "            Xs[i] = m2/mu*spy.conics(elements, t)    \n",
    "        \n",
    "        vrad_teos = Xs[:,3]*UV\n",
    "        ax.plot(ts*UT/days,vrad_teos,'b-',alpha=0.3,zorder=-100)\n",
    "        ax.set_xlabel(f\"Time [days]\")\n",
    "        ax.set_ylabel(f\"Radial Velocity [m/s]\")\n",
    "        ax.axhline(vrad_teos.max(),color='k',lw=5,alpha=0.2)\n",
    "        ax.axhline(vrad_teos.min(),color='k',lw=5,alpha=0.2)\n",
    "\n",
    "\n",
    "    # Decoration\n",
    "    ax.grid()\n",
    "    ax.set_xlim(tmin-duration/100,tmax)\n",
    "\n",
    "    ax.set_title(rf\"{system}, P = {gperiod:.2f} days, $m_2$ = {m2*UM/Mjup:.2f} $M_{{\\rm jup}}$, e = {e:.2f}, I = {I*rad:.1f} deg\",fontsize=13)\n",
    "    \n",
    "    fig.show()"
   ]
  },
  {
   "cell_type": "code",
   "execution_count": null,
   "metadata": {},
   "outputs": [],
   "source": []
  },
  {
   "cell_type": "code",
   "execution_count": null,
   "metadata": {},
   "outputs": [],
   "source": []
  }
 ],
 "metadata": {
  "kernelspec": {
   "display_name": "Python 3",
   "language": "python",
   "name": "python3"
  },
  "language_info": {
   "codemirror_mode": {
    "name": "ipython",
    "version": 3
   },
   "file_extension": ".py",
   "mimetype": "text/x-python",
   "name": "python",
   "nbconvert_exporter": "python",
   "pygments_lexer": "ipython3",
   "version": "3.10.12"
  }
 },
 "nbformat": 4,
 "nbformat_minor": 2
}
